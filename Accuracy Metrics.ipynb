{
 "cells": [
  {
   "cell_type": "markdown",
   "metadata": {},
   "source": [
    "### Problem Statement : Predict number of asteroids > 1 m radius that will hit the earth.\n",
    "\n",
    "* **1 million rows, hit - y/n**\n",
    "    * hit = y , 0.1 %\n",
    "    * hit = n , 99.9 %\n",
    "\n",
    "### No Asteroid is going to hit the earth.\n",
    "#### What is the accuracy of the above statement?\n",
    "#### 99.9% accuracy\n",
    "\n",
    "**Here my model has a very high accuracy but it is not really valuable.**\n",
    "\n",
    "*Q : What needs to be done in this case?*\n",
    "\n",
    "*A : Use different Accuracy Metrics.*"
   ]
  },
  {
   "cell_type": "markdown",
   "metadata": {},
   "source": [
    "### Confusion Matrix\n",
    "<img src=\"img/cm.png\">"
   ]
  },
  {
   "cell_type": "markdown",
   "metadata": {},
   "source": [
    "    [57  0]\n",
    "\n",
    "    [ 0 15]"
   ]
  },
  {
   "cell_type": "markdown",
   "metadata": {},
   "source": [
    "#### Accuracy = (TP + TN) / (TP + TN + FP + FN)\n",
    "\n",
    "* **When to use Accuracy?**\n",
    "    * When there is no skew in the classes, i.e. the class imbalance problem doesn't exist.\n",
    "    * Find overfitting problem by comparing test and train accuracy.\n",
    "    \n",
    "* **Caveat**\n",
    "    * If some one says no asteroid will hit the earth, then he / she will be correct 99.9% of the time."
   ]
  },
  {
   "cell_type": "markdown",
   "metadata": {},
   "source": [
    "### Type of problem\n",
    "\n",
    "* **Anomaly detection** - Credit Card fraud, Asteroid hit prediction, Spam Classification, Spot the terrorist in a crowd boarding subway train, find the faulty steel slab amongst daily production volume of 10000 slabs.\n",
    "    * Skew in classes\n",
    "    * Class imbalance exists\n",
    "\n",
    "* **Balanced Classification** - Image classification, Chatbot problem - classification of utterance into most probable intent\n",
    "    * Skew might be there but it will not be prominent\n",
    "    * Minimal class imbalance"
   ]
  },
  {
   "cell_type": "markdown",
   "metadata": {},
   "source": [
    "**Precision : what is the proportion of predicted positives that are truly positive?**\n",
    "\n",
    "Precision = TP / (TP + FP)\n",
    "\n",
    "In asteroid problem, the precision will be 0 since it was said that no Asteroid is going to hit the earth.\n",
    "\n",
    "* **When to use precision?**\n",
    "    * When we want to be very sure about our prediction, precision is a go to metric.\n",
    "    * e.g. if we are building a system to score customer credit limit - customer credit worthy - yes or no. If the model classifies a good customer as not credit worthy then its going to impact business in a bad manner."
   ]
  },
  {
   "cell_type": "markdown",
   "metadata": {},
   "source": [
    "**Recall : what is the proportion of actual positives that are correctly classified?**\n",
    "\n",
    "Precision = TP / (TP + FN)\n",
    "\n",
    "In asteroid problem, the recall will be 0 since it was said that no Asteroid is going to hit the earth.\n",
    "\n",
    "* **When to use recall?**\n",
    "    * When we want to capture as many positives as possible, recall is a go to metric.\n",
    "    * e.g. if we want to predict disease or predict anomaly then we need to look at recall."
   ]
  },
  {
   "cell_type": "markdown",
   "metadata": {},
   "source": [
    "**F1 Score - it is between 0 & 1, harmonic mean of precision and recall**\n",
    "\n",
    "F1 = 2 * (precision * recall) / (precision + recall)\n",
    "\n",
    "**Asteroid prediction problem**\n",
    "\n",
    "* If we're saying no Asteroid is going to hit the earth, then:\n",
    "    * precision = 0\n",
    "    * recall = 0\n",
    "    * accuracy = 99.9%\n",
    "    * f1-score = 0\n",
    "    \n",
    "   "
   ]
  },
  {
   "cell_type": "code",
   "execution_count": null,
   "metadata": {},
   "outputs": [],
   "source": []
  },
  {
   "cell_type": "code",
   "execution_count": null,
   "metadata": {},
   "outputs": [],
   "source": []
  },
  {
   "cell_type": "code",
   "execution_count": null,
   "metadata": {},
   "outputs": [],
   "source": []
  },
  {
   "cell_type": "code",
   "execution_count": null,
   "metadata": {},
   "outputs": [],
   "source": []
  },
  {
   "cell_type": "code",
   "execution_count": null,
   "metadata": {},
   "outputs": [],
   "source": []
  },
  {
   "cell_type": "code",
   "execution_count": null,
   "metadata": {},
   "outputs": [],
   "source": []
  }
 ],
 "metadata": {
  "kernelspec": {
   "display_name": "Python 3",
   "language": "python",
   "name": "python3"
  },
  "language_info": {
   "codemirror_mode": {
    "name": "ipython",
    "version": 3
   },
   "file_extension": ".py",
   "mimetype": "text/x-python",
   "name": "python",
   "nbconvert_exporter": "python",
   "pygments_lexer": "ipython3",
   "version": "3.8.3"
  }
 },
 "nbformat": 4,
 "nbformat_minor": 4
}
